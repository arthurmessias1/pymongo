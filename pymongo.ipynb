{
 "cells": [
  {
   "cell_type": "code",
   "execution_count": null,
   "metadata": {},
   "outputs": [],
   "source": [
    "from pymongo import MongoClient\n",
    "import json\n",
    "\n",
    "try:\n",
    "    conn = MongoClient()\n",
    "    # # Connect with the portnumber and host\n",
    "    # client = MongoClient('mongodb://localhost:27017/')\n",
    "    print(\"Connected successfully!!!\")\n",
    "except:  \n",
    "    print(\"Could not connect to MongoDB\")\n",
    "  \n",
    "# Access the database\n",
    "db = conn.test\n",
    "  \n",
    "# Created or Switched to collection names: myTable\n",
    "collection = db.testes\n",
    "  \n"
   ]
  },
  {
   "cell_type": "code",
   "execution_count": null,
   "metadata": {},
   "outputs": [],
   "source": [
    "def insert_collection(collection):\n",
    "    \"\"\" Function to insert a document into a collection and\n",
    "    return the document's id.\n",
    "    \"\"\"\n",
    "    return collection.createCollection()\n",
    "\n",
    "# Imports truncated for brevity\n",
    "\n",
    "def insert_document(collection, data):\n",
    "    \"\"\" Function to insert a document into a collection and\n",
    "    return the document's id.\n",
    "    \"\"\"\n",
    "    return collection.insert_one(data).inserted_id\n",
    "\n",
    "def insert_many_documents(collection, data):\n",
    "    \"\"\" Function to insert many documents into a collection and\n",
    "    return the document's id.\n",
    "    \"\"\"\n",
    "    return collection.insert_many(data)\n",
    "\n",
    "# Imports and previous code truncated for brevity\n",
    "\n",
    "def find_document(collection, elements, multiple=False):\n",
    "    \"\"\" Function to retrieve single or multiple documents from a provided\n",
    "    Collection using a dictionary containing a document's elements.\n",
    "    \"\"\"\n",
    "    if multiple:\n",
    "        results = collection.find(elements)\n",
    "        return [r for r in results]\n",
    "    else:\n",
    "        return collection.find_one(elements)\n",
    "    \n",
    "# Imports and previous code truncated for brevity\n",
    "\n",
    "def update_document(collection, query_elements, new_values):\n",
    "    \"\"\" Function to update a single document in a collection.\n",
    "    \"\"\"\n",
    "    collection.update_one(query_elements, {'$set': new_values})\n",
    "    \n",
    "# Imports and previous code truncated for brevity\n",
    "\n",
    "def delete_document(collection, query):\n",
    "    \"\"\" Function to delete a single document from a collection.\n",
    "    \"\"\"\n",
    "    collection.delete_one(query)"
   ]
  },
  {
   "cell_type": "code",
   "execution_count": null,
   "metadata": {},
   "outputs": [],
   "source": [
    "# Opening the json file which we would load using the function \"insert_many_documents\".\n",
    "\n",
    "try:\n",
    "    with open(\"states.json\", encoding='utf-8') as meu_json:\n",
    "        dados = json.load(meu_json)\n",
    "    print(\"Data loaded successfully!!!\")\n",
    "    print(dados)\n",
    "except:  \n",
    "    print(\"There is something wrong with it\")\n",
    "    \n"
   ]
  },
  {
   "cell_type": "code",
   "execution_count": null,
   "metadata": {},
   "outputs": [],
   "source": [
    "# Using the function \"insert_many_documents\" to add several documents to the database.\n",
    "dados = [{'nome':'Arthur'}]\n",
    "new_show = dados\n",
    "    \n",
    "id_ = insert_many_documents(collection, new_show)"
   ]
  },
  {
   "cell_type": "code",
   "execution_count": null,
   "metadata": {},
   "outputs": [],
   "source": [
    "# Using the function \"find_document\" to find a document into the collection.\n",
    "\n",
    "result = find_document(collection, {'Nome': 'Pedro'})\n",
    "print(result)"
   ]
  },
  {
   "cell_type": "code",
   "execution_count": null,
   "metadata": {},
   "outputs": [],
   "source": [
    "# Using the function \"upload_document\" to upload a document into the collection.\n",
    "\n",
    "update_document(collection, {'nome': 'Arthur'}, {'nome': 'Pedro'})\n"
   ]
  },
  {
   "cell_type": "code",
   "execution_count": null,
   "metadata": {},
   "outputs": [],
   "source": [
    "# Using the function \"delete_document\" to upload a document into the collection.\n",
    "\n",
    "delete_document(collection, {'nome': 'Arthur'})"
   ]
  },
  {
   "cell_type": "code",
   "execution_count": null,
   "metadata": {},
   "outputs": [],
   "source": [
    "result = find_document(collection, {'nome': 'Arthur'})\n",
    "print(result)"
   ]
  },
  {
   "cell_type": "code",
   "execution_count": null,
   "metadata": {},
   "outputs": [],
   "source": [
    "# Using the function show all the data inside a collection in MongoDB.\n",
    "for x in db.testes.find():\n",
    "  print(x)"
   ]
  },
  {
   "cell_type": "code",
   "execution_count": null,
   "metadata": {},
   "outputs": [],
   "source": []
  }
 ],
 "metadata": {
  "kernelspec": {
   "display_name": "Python 3.10.6 64-bit",
   "language": "python",
   "name": "python3"
  },
  "language_info": {
   "codemirror_mode": {
    "name": "ipython",
    "version": 3
   },
   "file_extension": ".py",
   "mimetype": "text/x-python",
   "name": "python",
   "nbconvert_exporter": "python",
   "pygments_lexer": "ipython3",
   "version": "3.10.6"
  },
  "orig_nbformat": 4,
  "vscode": {
   "interpreter": {
    "hash": "aee8b7b246df8f9039afb4144a1f6fd8d2ca17a180786b69acc140d282b71a49"
   }
  }
 },
 "nbformat": 4,
 "nbformat_minor": 2
}
